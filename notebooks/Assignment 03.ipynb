{
 "cells": [
  {
   "cell_type": "markdown",
   "id": "d89cf63c-bf9f-4d43-85e4-299ceb3e56a7",
   "metadata": {},
   "source": [
    "# Assignment 03\n",
    "Generate Girvan-Newman (GN) networks varying:\n",
    "- $z_{in}, z_{out}$ or the probabilities matrix\n",
    "- communities number\n",
    "- communities size/proportion\n",
    "\n",
    "Discuss the properties of networks spectrum. Compare it with random networks without communities (ER)"
   ]
  },
  {
   "cell_type": "code",
   "execution_count": null,
   "id": "8470f1ab-dab7-4d0d-8cce-a6e2e0a67230",
   "metadata": {},
   "outputs": [],
   "source": []
  }
 ],
 "metadata": {
  "kernelspec": {
   "display_name": "Python 3 (ipykernel)",
   "language": "python",
   "name": "python3"
  },
  "language_info": {
   "codemirror_mode": {
    "name": "ipython",
    "version": 3
   },
   "file_extension": ".py",
   "mimetype": "text/x-python",
   "name": "python",
   "nbconvert_exporter": "python",
   "pygments_lexer": "ipython3",
   "version": "3.9.7"
  }
 },
 "nbformat": 4,
 "nbformat_minor": 5
}
