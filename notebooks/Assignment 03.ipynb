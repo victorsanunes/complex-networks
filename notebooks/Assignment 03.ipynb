{
 "cells": [
  {
   "cell_type": "markdown",
   "id": "d89cf63c-bf9f-4d43-85e4-299ceb3e56a7",
   "metadata": {},
   "source": [
    "# Assignment 03\n",
    "\n",
    "**Part One**\n",
    "\n",
    "Generate Girvan-Newman (GN) networks varying:\n",
    "- $z_{in}, z_{out}$ or the probabilities matrix\n",
    "- communities number\n",
    "- communities size/proportion\n",
    "\n",
    "Discuss the properties of networks spectrum. Compare it with random networks without communities (ER)\n",
    "\n",
    "**Part Two**\n",
    "\n",
    "Compare different modularity optimization methods applied to 2 or more large networks. Discuss its advantages and disadvantages."
   ]
  },
  {
   "cell_type": "code",
   "execution_count": 1,
   "id": "9410dd65-2164-4b0b-a96b-57093b72be61",
   "metadata": {},
   "outputs": [],
   "source": [
    "import igraph as ig\n",
    "import pandas as pd\n",
    "import numpy as np\n",
    "import seaborn as sns\n",
    "import matplotlib.pyplot as plt\n",
    "from time import process_time\n",
    "from numpy import linalg\n",
    "import math\n",
    "\n",
    "%config Completer.use_jedi = False"
   ]
  },
  {
   "cell_type": "markdown",
   "id": "2f412e58-9997-445c-90ff-ef9f1bc36552",
   "metadata": {},
   "source": [
    "To generate a SBM network we need to define the preference matrix. Which is a $K \\times K$ matrix, where $K$ is the number of groups. The probability of creating an edge between vertices from groups $i$ and $j$ is given by element $(i,j)$. In our case, $K = 2$. \n",
    "\n",
    "Also, $p_{0,0}$ is the probability of one member of group 0 connect to a node of group 0. This is analogue for $p_{1,1}$. $p_{0,1}$ represents the probability of a connection from a vertice from group 0 to a vertice in group 1.\n",
    "\n",
    "$$\n",
    "\\begin{bmatrix}\n",
    "p_{0,0}, p_{0,1} \\\\\n",
    "p_{1, 0}, p_{1,1}\n",
    "\\end{bmatrix}\n",
    "$$"
   ]
  },
  {
   "cell_type": "markdown",
   "id": "76e1908c-c3ca-41bb-bd05-ff2b3ef6fb00",
   "metadata": {},
   "source": [
    "## Part One ##\n",
    "## Experiment methodology\n",
    "We will create several networks and analyze their communities. We fixed the sum $z_{in} + z_{out}$ and changed the values for each $z$.\n",
    "\n",
    "Also we varied the proportion of nodes within the communities. Each community will have 20%, 50% and 80% of the nodes. \n",
    "\n",
    "Finally, we repeated the experiment for 2, 3 and 4 communities.\n",
    "\n",
    "First, let's analyze how the spectra looks like for small probabilities of connection "
   ]
  },
  {
   "cell_type": "code",
   "execution_count": 23,
   "id": "fa8af6d1-81d3-4a05-82de-1d889fcd6aa0",
   "metadata": {},
   "outputs": [],
   "source": [
    "z_max = 6\n",
    "z_in_values = np.arange(1, z_max, 1)\n",
    "z_out_values = [z_max - i for i in z_in_values]\n",
    "community_proportion = [0.2, 0.5]\n",
    "ensemble_size = 30"
   ]
  },
  {
   "cell_type": "markdown",
   "id": "74e56104-2f34-4d33-924f-710ac762dd1f",
   "metadata": {},
   "source": [
    "## Part 1.1"
   ]
  },
  {
   "cell_type": "code",
   "execution_count": 24,
   "id": "6ef7d39a-2726-4955-995b-b1675ac3e981",
   "metadata": {},
   "outputs": [],
   "source": [
    "start = process_time()\n",
    "idx = 4\n",
    "proportion_index = 1\n",
    "z_in = z_in_values[idx]\n",
    "z_out = z_out_values[idx]\n",
    "n = 1000\n",
    "block_sizes = [int(community_proportion[proportion_index]*n), \n",
    "               # workaround to precision float issues\n",
    "               int(np.round(1 - community_proportion[proportion_index], 2)*n)]\n",
    "# pm = [[z_in/block_sizes[0], z_out/n],\n",
    "#       [z_out/n, z_in/block_sizes[1]],\n",
    "#      ]\n",
    "\n",
    "pm = [[np.log(block_sizes[0])/block_sizes[0], 0.01],\n",
    "      [0.01, np.log(block_sizes[1])/block_sizes[1]],\n",
    "     ]\n",
    "\n",
    "sbm_graphs = dict()\n",
    "er_graphs = dict()\n",
    "\n",
    "sbm_graphs[\"graphs\"] = list()\n",
    "sbm_graphs[\"fidler_eigenvalue\"] = list()\n",
    "# sbm_graphs[\"degree\"] = list()\n",
    "\n",
    "\n",
    "er_graphs[\"graphs\"] = list()\n",
    "er_graphs[\"fidler_eigenvalue\"] = list()\n",
    "# er_graphs[\"degree\"] = list()\n",
    "\n",
    "\n",
    "\n",
    "for i in range(ensemble_size):\n",
    "    # Generate SBM graphs\n",
    "    graph = ig.Graph.SBM(n = n, pref_matrix = pm, block_sizes = block_sizes, directed=False, loops=False)\n",
    "    sbm_graphs[\"graphs\"].append(graph)\n",
    "    \n",
    "    laplacian_matrix = ig.Graph.laplacian(graph, normalized = False)\n",
    "    eigenvalues, eigenvectors = linalg.eig(laplacian_matrix)    \n",
    "    fidler_eigenvector = eigenvectors[1]    \n",
    "    fidler_eigenvalue = sorted(eigenvalues)[1]\n",
    "    er_graphs[\"fidler_eigenvalue\"].append(np.round(fidler_eigenvalue, 2))\n",
    "    \n",
    "    # Generate ER graphs\n",
    "    probability = math.ceil(np.mean(graph.degree()))/n\n",
    "    graph = ig.Graph.Erdos_Renyi(n = n, p = probability)\n",
    "    er_graphs[\"graphs\"].append(graph)\n",
    "    \n",
    "    laplacian_matrix = ig.Graph.laplacian(graph, normalized = False)\n",
    "    eigenvalues, eigenvectors = linalg.eig(laplacian_matrix)    \n",
    "    fidler_eigenvector = eigenvectors[1]    \n",
    "    fidler_eigenvalue = sorted(eigenvalues)[1]\n",
    "    er_graphs[\"fidler_eigenvalue\"].append(np.round(fidler_eigenvalue, 2))"
   ]
  },
  {
   "cell_type": "code",
   "execution_count": 25,
   "id": "122bbff8-308b-4554-8f5f-adb85c5e56a8",
   "metadata": {},
   "outputs": [],
   "source": [
    "spectral_analysis = pd.DataFrame({\"network\": [], \"fidler_eigenvalue\": []})\n",
    "spectral_analysis[\"fidler_eigenvalue\"] = sbm_graphs[\"fidler_eigenvalue\"] + er_graphs[\"fidler_eigenvalue\"]\n",
    "spectral_analysis[\"network\"] = [\"sbm\"] * ensemble_size + [\"er\"] * ensemble_size\n",
    "spectral_analysis[\"network\"] = [\"sbm\"] * ensemble_size + [\"er\"] * ensemble_size\n",
    "spectral_analysis[\"network_id\"] = np.arange(0, ensemble_size, 1).tolist() + np.arange(0, ensemble_size, 1).tolist()"
   ]
  },
  {
   "cell_type": "code",
   "execution_count": 26,
   "id": "5ce829fa-3c16-4e31-83c1-2737a8136eb6",
   "metadata": {},
   "outputs": [
    {
     "data": {
      "text/html": [
       "<div>\n",
       "<style scoped>\n",
       "    .dataframe tbody tr th:only-of-type {\n",
       "        vertical-align: middle;\n",
       "    }\n",
       "\n",
       "    .dataframe tbody tr th {\n",
       "        vertical-align: top;\n",
       "    }\n",
       "\n",
       "    .dataframe thead tr th {\n",
       "        text-align: left;\n",
       "    }\n",
       "\n",
       "    .dataframe thead tr:last-of-type th {\n",
       "        text-align: right;\n",
       "    }\n",
       "</style>\n",
       "<table border=\"1\" class=\"dataframe\">\n",
       "  <thead>\n",
       "    <tr>\n",
       "      <th></th>\n",
       "      <th>mean</th>\n",
       "      <th>std</th>\n",
       "    </tr>\n",
       "    <tr>\n",
       "      <th></th>\n",
       "      <th>fidler_eigenvalue</th>\n",
       "      <th>fidler_eigenvalue</th>\n",
       "    </tr>\n",
       "    <tr>\n",
       "      <th>network</th>\n",
       "      <th></th>\n",
       "      <th></th>\n",
       "    </tr>\n",
       "  </thead>\n",
       "  <tbody>\n",
       "    <tr>\n",
       "      <th>er</th>\n",
       "      <td>1.98</td>\n",
       "      <td>0.68</td>\n",
       "    </tr>\n",
       "    <tr>\n",
       "      <th>sbm</th>\n",
       "      <td>2.10</td>\n",
       "      <td>0.54</td>\n",
       "    </tr>\n",
       "  </tbody>\n",
       "</table>\n",
       "</div>"
      ],
      "text/plain": [
       "                     mean               std\n",
       "        fidler_eigenvalue fidler_eigenvalue\n",
       "network                                    \n",
       "er                   1.98              0.68\n",
       "sbm                  2.10              0.54"
      ]
     },
     "execution_count": 26,
     "metadata": {},
     "output_type": "execute_result"
    }
   ],
   "source": [
    "np.round(spectral_analysis.pivot_table(index = [\"network\"],\n",
    "                             values = [\"fidler_eigenvalue\"],\n",
    "                             aggfunc = [\"mean\", \"std\"], ), 2)"
   ]
  },
  {
   "cell_type": "markdown",
   "id": "3070c373-24cd-41ae-aeb2-0835eb2f8ee2",
   "metadata": {},
   "source": [
    "The algebraic connectivity for 10 realizations is much higher for SBM networks, altough they have a higher variation in its values due to its higher standard deviation. SBM in average had a 2.23 algebraic connectivity against 1.55 for the ER models. If we increse the average degree in ER we should expect an increase in its algebraic connectivity. Now, we'll change the proportion of the communities"
   ]
  },
  {
   "cell_type": "markdown",
   "id": "d66405ee-5e55-40dc-ad01-d27fc5abb149",
   "metadata": {},
   "source": [
    "## Part 1.2"
   ]
  },
  {
   "cell_type": "code",
   "execution_count": 27,
   "id": "c795cb70-83a4-4cb8-b911-3648b89b9a70",
   "metadata": {},
   "outputs": [],
   "source": [
    "start = process_time()\n",
    "idx = 4\n",
    "proportion_index = 0\n",
    "z_in = z_in_values[idx]\n",
    "z_out = z_out_values[idx]\n",
    "n = 1000\n",
    "block_sizes = [int(community_proportion[proportion_index]*n), \n",
    "               # workaround to precision float issues\n",
    "               int(np.round(1 - community_proportion[proportion_index], 2)*n)]\n",
    "# pm = [[z_in/block_sizes[0], z_out/n],\n",
    "#       [z_out/n, z_in/block_sizes[1]],\n",
    "#      ]\n",
    "\n",
    "pm = [[np.log(block_sizes[0])/block_sizes[0], 0.01],\n",
    "      [0.01, np.log(block_sizes[1])/block_sizes[1]],\n",
    "     ]\n",
    "\n",
    "sbm_graphs = dict()\n",
    "er_graphs = dict()\n",
    "\n",
    "sbm_graphs[\"graphs\"] = list()\n",
    "sbm_graphs[\"fidler_eigenvalue\"] = list()\n",
    "# sbm_graphs[\"degree\"] = list()\n",
    "\n",
    "\n",
    "er_graphs[\"graphs\"] = list()\n",
    "er_graphs[\"fidler_eigenvalue\"] = list()\n",
    "# er_graphs[\"degree\"] = list()\n",
    "\n",
    "\n",
    "\n",
    "for i in range(ensemble_size):\n",
    "    # Generate SBM graphs\n",
    "    graph = ig.Graph.SBM(n = n, pref_matrix = pm, block_sizes = block_sizes, directed=False, loops=False)\n",
    "    sbm_graphs[\"graphs\"].append(graph)\n",
    "    \n",
    "    laplacian_matrix = ig.Graph.laplacian(graph, normalized = False)\n",
    "    eigenvalues, eigenvectors = linalg.eig(laplacian_matrix)    \n",
    "    fidler_eigenvector = eigenvectors[1]    \n",
    "    fidler_eigenvalue = sorted(eigenvalues)[1]\n",
    "    er_graphs[\"fidler_eigenvalue\"].append(np.round(fidler_eigenvalue, 2))\n",
    "    \n",
    "    # Generate ER graphs\n",
    "    probability = math.ceil(np.mean(graph.degree()))/n\n",
    "    graph = ig.Graph.Erdos_Renyi(n = n, p = probability)\n",
    "    er_graphs[\"graphs\"].append(graph)\n",
    "    \n",
    "    laplacian_matrix = ig.Graph.laplacian(graph, normalized = False)\n",
    "    eigenvalues, eigenvectors = linalg.eig(laplacian_matrix)    \n",
    "    fidler_eigenvector = eigenvectors[1]    \n",
    "    fidler_eigenvalue = sorted(eigenvalues)[1]\n",
    "    er_graphs[\"fidler_eigenvalue\"].append(np.round(fidler_eigenvalue, 2))\n",
    "end = process_time()"
   ]
  },
  {
   "cell_type": "code",
   "execution_count": 28,
   "id": "1a23f60e-20e7-411a-8af8-cc158646f82e",
   "metadata": {},
   "outputs": [],
   "source": [
    "spectral_analysis = pd.DataFrame({\"network\": [], \"fidler_eigenvalue\": []})\n",
    "spectral_analysis[\"fidler_eigenvalue\"] = sbm_graphs[\"fidler_eigenvalue\"] + er_graphs[\"fidler_eigenvalue\"]\n",
    "spectral_analysis[\"network\"] = [\"sbm\"] * ensemble_size + [\"er\"] * ensemble_size\n",
    "spectral_analysis[\"network\"] = [\"sbm\"] * ensemble_size + [\"er\"] * ensemble_size\n",
    "spectral_analysis[\"network_id\"] = np.arange(0, ensemble_size, 1).tolist() + np.arange(0, ensemble_size, 1).tolist()"
   ]
  },
  {
   "cell_type": "code",
   "execution_count": 29,
   "id": "9ab88d03-df25-455d-9ab2-a79204637fdc",
   "metadata": {},
   "outputs": [
    {
     "data": {
      "text/html": [
       "<div>\n",
       "<style scoped>\n",
       "    .dataframe tbody tr th:only-of-type {\n",
       "        vertical-align: middle;\n",
       "    }\n",
       "\n",
       "    .dataframe tbody tr th {\n",
       "        vertical-align: top;\n",
       "    }\n",
       "\n",
       "    .dataframe thead tr th {\n",
       "        text-align: left;\n",
       "    }\n",
       "\n",
       "    .dataframe thead tr:last-of-type th {\n",
       "        text-align: right;\n",
       "    }\n",
       "</style>\n",
       "<table border=\"1\" class=\"dataframe\">\n",
       "  <thead>\n",
       "    <tr>\n",
       "      <th></th>\n",
       "      <th>mean</th>\n",
       "      <th>std</th>\n",
       "    </tr>\n",
       "    <tr>\n",
       "      <th></th>\n",
       "      <th>fidler_eigenvalue</th>\n",
       "      <th>fidler_eigenvalue</th>\n",
       "    </tr>\n",
       "    <tr>\n",
       "      <th>network</th>\n",
       "      <th></th>\n",
       "      <th></th>\n",
       "    </tr>\n",
       "  </thead>\n",
       "  <tbody>\n",
       "    <tr>\n",
       "      <th>er</th>\n",
       "      <td>1.26</td>\n",
       "      <td>0.45</td>\n",
       "    </tr>\n",
       "    <tr>\n",
       "      <th>sbm</th>\n",
       "      <td>1.11</td>\n",
       "      <td>0.59</td>\n",
       "    </tr>\n",
       "  </tbody>\n",
       "</table>\n",
       "</div>"
      ],
      "text/plain": [
       "                     mean               std\n",
       "        fidler_eigenvalue fidler_eigenvalue\n",
       "network                                    \n",
       "er                   1.26              0.45\n",
       "sbm                  1.11              0.59"
      ]
     },
     "execution_count": 29,
     "metadata": {},
     "output_type": "execute_result"
    }
   ],
   "source": [
    "np.round(spectral_analysis.pivot_table(index = [\"network\"],\n",
    "                             values = [\"fidler_eigenvalue\"],\n",
    "                             aggfunc = [\"mean\", \"std\"], ), 2)"
   ]
  },
  {
   "cell_type": "markdown",
   "id": "e1f3e9a5-3237-4e07-8799-7f18357d170a",
   "metadata": {},
   "source": [
    "Now, we changed the community proportion to 20% and 80%. We can see that the algbraic connectivity now is pretty close for both network. However, this time the SBM networks varies more. This is interesting because as we increase one of the community proportion, conssequently, all the rest of nodes will be assigned to the other community. And this makes the network more similar to a random network. The extreme would be a network with 100% nodes in one community and 0% in the other, or vice-versa. "
   ]
  },
  {
   "cell_type": "markdown",
   "id": "e4ae09fb-52c4-4ffb-bdff-468e6adc3f12",
   "metadata": {},
   "source": [
    "## Part 1.3\n",
    "\n",
    "Now, we'll change the communities number. Let's create a network with 3 communities"
   ]
  },
  {
   "cell_type": "code",
   "execution_count": 30,
   "id": "110c794c-4a39-44a6-af57-d7eb28ad1fc2",
   "metadata": {},
   "outputs": [
    {
     "data": {
      "text/html": [
       "<div>\n",
       "<style scoped>\n",
       "    .dataframe tbody tr th:only-of-type {\n",
       "        vertical-align: middle;\n",
       "    }\n",
       "\n",
       "    .dataframe tbody tr th {\n",
       "        vertical-align: top;\n",
       "    }\n",
       "\n",
       "    .dataframe thead tr th {\n",
       "        text-align: left;\n",
       "    }\n",
       "\n",
       "    .dataframe thead tr:last-of-type th {\n",
       "        text-align: right;\n",
       "    }\n",
       "</style>\n",
       "<table border=\"1\" class=\"dataframe\">\n",
       "  <thead>\n",
       "    <tr>\n",
       "      <th></th>\n",
       "      <th>mean</th>\n",
       "      <th>std</th>\n",
       "    </tr>\n",
       "    <tr>\n",
       "      <th></th>\n",
       "      <th>fidler_eigenvalue</th>\n",
       "      <th>fidler_eigenvalue</th>\n",
       "    </tr>\n",
       "    <tr>\n",
       "      <th>network</th>\n",
       "      <th></th>\n",
       "      <th></th>\n",
       "    </tr>\n",
       "  </thead>\n",
       "  <tbody>\n",
       "    <tr>\n",
       "      <th>er</th>\n",
       "      <td>2.60</td>\n",
       "      <td>0.62</td>\n",
       "    </tr>\n",
       "    <tr>\n",
       "      <th>sbm</th>\n",
       "      <td>2.69</td>\n",
       "      <td>0.65</td>\n",
       "    </tr>\n",
       "  </tbody>\n",
       "</table>\n",
       "</div>"
      ],
      "text/plain": [
       "                     mean               std\n",
       "        fidler_eigenvalue fidler_eigenvalue\n",
       "network                                    \n",
       "er                   2.60              0.62\n",
       "sbm                  2.69              0.65"
      ]
     },
     "execution_count": 30,
     "metadata": {},
     "output_type": "execute_result"
    }
   ],
   "source": [
    "start = process_time()\n",
    "idx = 4\n",
    "proportion_index = 0\n",
    "z_in = z_in_values[idx]\n",
    "z_out = z_out_values[idx]\n",
    "n = 1000\n",
    "community_proportion = 0.33\n",
    "block_sizes = [int(community_proportion*n), int(community_proportion*n), int(np.round(1 - 2*community_proportion, 2)*n)]\n",
    "\n",
    "pm = [[np.log(block_sizes[0])/block_sizes[0], 0.01, 0.01],\n",
    "      [0.01, np.log(block_sizes[1])/block_sizes[1], 0.01],\n",
    "      [0.01, 0.01, np.log(block_sizes[2])/block_sizes[2]]\n",
    "     ]\n",
    "\n",
    "sbm_graphs = dict()\n",
    "er_graphs = dict()\n",
    "\n",
    "sbm_graphs[\"graphs\"] = list()\n",
    "sbm_graphs[\"fidler_eigenvalue\"] = list()\n",
    "# sbm_graphs[\"degree\"] = list()\n",
    "\n",
    "\n",
    "er_graphs[\"graphs\"] = list()\n",
    "er_graphs[\"fidler_eigenvalue\"] = list()\n",
    "# er_graphs[\"degree\"] = list()\n",
    "\n",
    "\n",
    "\n",
    "for i in range(ensemble_size):\n",
    "    # Generate SBM graphs\n",
    "    graph = ig.Graph.SBM(n = n, pref_matrix = pm, block_sizes = block_sizes, directed=False, loops=False)\n",
    "    sbm_graphs[\"graphs\"].append(graph)\n",
    "    \n",
    "    laplacian_matrix = ig.Graph.laplacian(graph, normalized = False)\n",
    "    eigenvalues, eigenvectors = linalg.eig(laplacian_matrix)    \n",
    "    fidler_eigenvector = eigenvectors[1]    \n",
    "    fidler_eigenvalue = sorted(eigenvalues)[1]\n",
    "    er_graphs[\"fidler_eigenvalue\"].append(np.round(fidler_eigenvalue, 2))\n",
    "    \n",
    "    # Generate ER graphs\n",
    "    probability = math.ceil(np.mean(graph.degree()))/n\n",
    "    graph = ig.Graph.Erdos_Renyi(n = n, p = probability)\n",
    "    er_graphs[\"graphs\"].append(graph)\n",
    "    \n",
    "    laplacian_matrix = ig.Graph.laplacian(graph, normalized = False)\n",
    "    eigenvalues, eigenvectors = linalg.eig(laplacian_matrix)    \n",
    "    fidler_eigenvector = eigenvectors[1]    \n",
    "    fidler_eigenvalue = sorted(eigenvalues)[1]\n",
    "    er_graphs[\"fidler_eigenvalue\"].append(np.round(fidler_eigenvalue, 2))\n",
    "end = process_time()\n",
    "\n",
    "spectral_analysis = pd.DataFrame({\"network\": [], \"fidler_eigenvalue\": []})\n",
    "spectral_analysis[\"fidler_eigenvalue\"] = sbm_graphs[\"fidler_eigenvalue\"] + er_graphs[\"fidler_eigenvalue\"]\n",
    "spectral_analysis[\"network\"] = [\"sbm\"] * ensemble_size + [\"er\"] * ensemble_size\n",
    "spectral_analysis[\"network\"] = [\"sbm\"] * ensemble_size + [\"er\"] * ensemble_size\n",
    "spectral_analysis[\"network_id\"] = np.arange(0, ensemble_size, 1).tolist() + np.arange(0, ensemble_size, 1).tolist()\n",
    "\n",
    "np.round(spectral_analysis.pivot_table(index = [\"network\"],\n",
    "                             values = [\"fidler_eigenvalue\"],\n",
    "                             aggfunc = [\"mean\", \"std\"], ), 2)"
   ]
  },
  {
   "cell_type": "markdown",
   "id": "822cb57b-6356-4cc6-adcc-3600509b3441",
   "metadata": {},
   "source": [
    "As we can see, there was an increase in algebraic connectivity of SBM networks. We can say that the ER remained the same. As the number of components increases"
   ]
  },
  {
   "cell_type": "code",
   "execution_count": 31,
   "id": "4b25f5a5-878f-4017-9c93-903397bcf093",
   "metadata": {},
   "outputs": [
    {
     "data": {
      "text/html": [
       "<div>\n",
       "<style scoped>\n",
       "    .dataframe tbody tr th:only-of-type {\n",
       "        vertical-align: middle;\n",
       "    }\n",
       "\n",
       "    .dataframe tbody tr th {\n",
       "        vertical-align: top;\n",
       "    }\n",
       "\n",
       "    .dataframe thead tr th {\n",
       "        text-align: left;\n",
       "    }\n",
       "\n",
       "    .dataframe thead tr:last-of-type th {\n",
       "        text-align: right;\n",
       "    }\n",
       "</style>\n",
       "<table border=\"1\" class=\"dataframe\">\n",
       "  <thead>\n",
       "    <tr>\n",
       "      <th></th>\n",
       "      <th>mean</th>\n",
       "      <th>std</th>\n",
       "    </tr>\n",
       "    <tr>\n",
       "      <th></th>\n",
       "      <th>fidler_eigenvalue</th>\n",
       "      <th>fidler_eigenvalue</th>\n",
       "    </tr>\n",
       "    <tr>\n",
       "      <th>network</th>\n",
       "      <th></th>\n",
       "      <th></th>\n",
       "    </tr>\n",
       "  </thead>\n",
       "  <tbody>\n",
       "    <tr>\n",
       "      <th>er</th>\n",
       "      <td>2.76</td>\n",
       "      <td>0.88</td>\n",
       "    </tr>\n",
       "    <tr>\n",
       "      <th>sbm</th>\n",
       "      <td>2.78</td>\n",
       "      <td>0.72</td>\n",
       "    </tr>\n",
       "  </tbody>\n",
       "</table>\n",
       "</div>"
      ],
      "text/plain": [
       "                     mean               std\n",
       "        fidler_eigenvalue fidler_eigenvalue\n",
       "network                                    \n",
       "er                   2.76              0.88\n",
       "sbm                  2.78              0.72"
      ]
     },
     "execution_count": 31,
     "metadata": {},
     "output_type": "execute_result"
    }
   ],
   "source": [
    "start = process_time()\n",
    "idx = 4\n",
    "z_in = z_in_values[idx]\n",
    "z_out = z_out_values[idx]\n",
    "n = 1000\n",
    "community_proportion = 0.25\n",
    "block_sizes = [int(community_proportion*n), int(community_proportion*n), int(community_proportion*n), int(community_proportion*n)]\n",
    "\n",
    "pm = [[np.log(block_sizes[0])/block_sizes[0], 0.01, 0.01, 0.01],\n",
    "      [0.01, np.log(block_sizes[1])/block_sizes[1], 0.01, 0.01],\n",
    "      [0.01, 0.01, np.log(block_sizes[2])/block_sizes[2], 0.01],\n",
    "      [0.01, 0.01, 0.01, np.log(block_sizes[3])/block_sizes[3]]\n",
    "     ]\n",
    "\n",
    "sbm_graphs = dict()\n",
    "er_graphs = dict()\n",
    "\n",
    "sbm_graphs[\"graphs\"] = list()\n",
    "sbm_graphs[\"fidler_eigenvalue\"] = list()\n",
    "# sbm_graphs[\"degree\"] = list()\n",
    "\n",
    "\n",
    "er_graphs[\"graphs\"] = list()\n",
    "er_graphs[\"fidler_eigenvalue\"] = list()\n",
    "# er_graphs[\"degree\"] = list()\n",
    "\n",
    "\n",
    "\n",
    "for i in range(ensemble_size):\n",
    "    # Generate SBM graphs\n",
    "    graph = ig.Graph.SBM(n = n, pref_matrix = pm, block_sizes = block_sizes, directed=False, loops=False)\n",
    "    sbm_graphs[\"graphs\"].append(graph)\n",
    "    \n",
    "    laplacian_matrix = ig.Graph.laplacian(graph, normalized = False)\n",
    "    eigenvalues, eigenvectors = linalg.eig(laplacian_matrix)    \n",
    "    fidler_eigenvector = eigenvectors[1]    \n",
    "    fidler_eigenvalue = sorted(eigenvalues)[1]\n",
    "    er_graphs[\"fidler_eigenvalue\"].append(np.round(fidler_eigenvalue, 2))\n",
    "    \n",
    "    # Generate ER graphs\n",
    "    probability = math.ceil(np.mean(graph.degree()))/n\n",
    "    graph = ig.Graph.Erdos_Renyi(n = n, p = probability)\n",
    "    er_graphs[\"graphs\"].append(graph)\n",
    "    \n",
    "    laplacian_matrix = ig.Graph.laplacian(graph, normalized = False)\n",
    "    eigenvalues, eigenvectors = linalg.eig(laplacian_matrix)    \n",
    "    fidler_eigenvector = eigenvectors[1]    \n",
    "    fidler_eigenvalue = sorted(eigenvalues)[1]\n",
    "    er_graphs[\"fidler_eigenvalue\"].append(np.round(fidler_eigenvalue, 2))\n",
    "end = process_time()\n",
    "\n",
    "spectral_analysis = pd.DataFrame({\"network\": [], \"fidler_eigenvalue\": []})\n",
    "spectral_analysis[\"fidler_eigenvalue\"] = sbm_graphs[\"fidler_eigenvalue\"] + er_graphs[\"fidler_eigenvalue\"]\n",
    "spectral_analysis[\"network\"] = [\"sbm\"] * ensemble_size + [\"er\"] * ensemble_size\n",
    "spectral_analysis[\"network\"] = [\"sbm\"] * ensemble_size + [\"er\"] * ensemble_size\n",
    "spectral_analysis[\"network_id\"] = np.arange(0, ensemble_size, 1).tolist() + np.arange(0, ensemble_size, 1).tolist()\n",
    "\n",
    "np.round(spectral_analysis.pivot_table(index = [\"network\"],\n",
    "                             values = [\"fidler_eigenvalue\"],\n",
    "                             aggfunc = [\"mean\", \"std\"], ), 2)"
   ]
  },
  {
   "cell_type": "markdown",
   "id": "85bb5665-86c1-4786-a349-3bca057ee452",
   "metadata": {},
   "source": [
    "## Part 2\n",
    "\n",
    "Now, we'll analyze the modularity optimization methods applied in real networks. The first network is the Wikipedia Graph."
   ]
  },
  {
   "cell_type": "code",
   "execution_count": 32,
   "id": "7b9685cf-380b-40a8-839b-e151b6ba9088",
   "metadata": {},
   "outputs": [],
   "source": [
    "finished_paths = pd.read_csv(\"../datasets/wikispeedia_paths-and-graph/paths_finished.tsv\", \n",
    "                                delimiter = \"\\t\", \n",
    "                                skiprows = 15, \n",
    "                                names = ['hashedIpAddress', 'timestamp', 'durationInSec', 'path', 'rating'])\n",
    "articles = pd.read_csv(\"../datasets/wikispeedia_paths-and-graph/articles.tsv\", \n",
    "                                delimiter = \"\\t\", \n",
    "                                skiprows = 11, \n",
    "                                names = ['article']).reset_index().rename(columns = {\"index\": \"article_id\"})\n",
    "categories = pd.read_csv(\"../datasets/wikispeedia_paths-and-graph/categories.tsv\", \n",
    "                                delimiter = \"\\t\", \n",
    "                                skiprows = 12, \n",
    "                                names = ['article', 'category'])"
   ]
  },
  {
   "cell_type": "code",
   "execution_count": 34,
   "id": "2b100ca6-5504-4c29-90d0-fd524269a26e",
   "metadata": {},
   "outputs": [],
   "source": [
    "def replace_back_page(path):\n",
    "    while \"<\" in path:\n",
    "        idx = path.index(\"<\")\n",
    "        path[idx] = path[idx - 2]\n",
    "    return path\n",
    "    \n",
    "def parse_path(unparsed_path, delimiter = \";\"):\n",
    "    nodes = unparsed_path.split(delimiter)\n",
    "    replaced = replace_back_page(nodes)\n",
    "    return replaced"
   ]
  },
  {
   "cell_type": "code",
   "execution_count": 35,
   "id": "78c89549-0a59-4727-8716-420f11baf4a9",
   "metadata": {},
   "outputs": [],
   "source": [
    "parsed_paths = list()\n",
    "for path in finished_paths['path'].tolist():\n",
    "    parsed_paths.append(parse_path(path))"
   ]
  },
  {
   "cell_type": "code",
   "execution_count": 36,
   "id": "75cebc2e-860a-4c7f-b1ce-3429a4891504",
   "metadata": {},
   "outputs": [],
   "source": [
    "def path_array_to_tuple(path_array):\n",
    "    tuple_array = list()\n",
    "    for i in range(0, len(path_array)-1, 1):\n",
    "        tuple_array.append((path_array[i], path_array[i+1]))\n",
    "    return tuple_array\n",
    "\n",
    "edges = list()\n",
    "for p in parsed_paths:\n",
    "    edges.extend(path_array_to_tuple(p))"
   ]
  },
  {
   "cell_type": "code",
   "execution_count": 38,
   "id": "9c739179-2491-4a41-bcac-64ee5bae24fb",
   "metadata": {},
   "outputs": [],
   "source": [
    "wikipedia_graph = ig.Graph()\n",
    "wikipedia_graph.add_vertices(articles['article'].tolist())#, attributes = categories.set_index(keys = 'article').to_dict()['category'])"
   ]
  },
  {
   "cell_type": "code",
   "execution_count": 50,
   "id": "4b946e2e-7414-4135-b3ca-f389b899ed6f",
   "metadata": {},
   "outputs": [
    {
     "data": {
      "text/plain": [
       "0       %C3%81ed%C3%A1n_mac_Gabr%C3%A1in\n",
       "1                             %C3%85land\n",
       "2                     %C3%89douard_Manet\n",
       "3                              %C3%89ire\n",
       "4             %C3%93engus_I_of_the_Picts\n",
       "                      ...               \n",
       "4599                             Zionism\n",
       "4600                           Zirconium\n",
       "4601                           Zoroaster\n",
       "4602                        Zuid-Gelders\n",
       "4603                                Zulu\n",
       "Name: article, Length: 4604, dtype: object"
      ]
     },
     "execution_count": 50,
     "metadata": {},
     "output_type": "execute_result"
    }
   ],
   "source": [
    "articles['article']"
   ]
  },
  {
   "cell_type": "code",
   "execution_count": 39,
   "id": "3d203a03-f3cd-4c35-bbd3-36e6208334ad",
   "metadata": {},
   "outputs": [
    {
     "name": "stdout",
     "output_type": "stream",
     "text": [
      "CPU times: user 58.4 ms, sys: 2.32 ms, total: 60.8 ms\n",
      "Wall time: 62.9 ms\n"
     ]
    }
   ],
   "source": [
    "%%time\n",
    "\n",
    "def add_edges_to_graph(graph, edges, autoconnect = False):\n",
    "    for e in edges:\n",
    "        # Auto-connections are not allowed\n",
    "        if e[0] != e[1] and ~autoconnect:\n",
    "            try:\n",
    "                graph.add_edges([e])\n",
    "            except:\n",
    "                pass\n",
    "        elif autoconnect:\n",
    "            try:\n",
    "                graph.add_edges([e])\n",
    "            except:\n",
    "                pass\n",
    "add_edges_to_graph(wikipedia_graph, edges[:1000])"
   ]
  },
  {
   "cell_type": "code",
   "execution_count": 48,
   "id": "6f8a6320-bc85-4c54-8927-833b4165244f",
   "metadata": {},
   "outputs": [],
   "source": [
    "email_edges = pd.read_table(\"../datasets/email-EU/email-Eu-core.txt\", names = [\"sender_id\", \"receipt_id\"], delimiter = \" \")\n",
    "department_labels = pd.read_table(\"../datasets/email-EU/email-Eu-core-department-labels.txt\", names = [\"node_id\", \"department_id\"], delimiter = \" \")"
   ]
  },
  {
   "cell_type": "code",
   "execution_count": 61,
   "id": "66550087-642d-4323-a10a-8d8a8f476d1f",
   "metadata": {},
   "outputs": [],
   "source": [
    "distinct_senders = email_edges[\"sender_id\"].unique().tolist()\n",
    "distinct_receipt = email_edges[\"receipt_id\"].unique().tolist()\n",
    "distinct_nodes = set(distinct_senders + distinct_receipt)"
   ]
  },
  {
   "cell_type": "code",
   "execution_count": 74,
   "id": "67a80103-aea9-4448-b967-bffa456d6bfa",
   "metadata": {},
   "outputs": [],
   "source": [
    "r = email_edges.to_records(index = False, )"
   ]
  },
  {
   "cell_type": "code",
   "execution_count": 75,
   "id": "69e5eb54-0222-4b9a-b06e-29f0fecfeb32",
   "metadata": {},
   "outputs": [],
   "source": [
    "emails_graph = ig.Graph()\n",
    "emails_graph.add_vertices(list(distinct_nodes))#, attributes = categories.set_index(keys = 'article').to_dict()['category'])\n",
    "add_edges_to_graph(emails_graph, email_edges.to_records(index = False, ))"
   ]
  },
  {
   "cell_type": "code",
   "execution_count": null,
   "id": "f3324f08-67c7-4410-830e-788af8326dfe",
   "metadata": {},
   "outputs": [],
   "source": []
  },
  {
   "cell_type": "code",
   "execution_count": null,
   "id": "cb0147a4-a443-48a4-8ec4-5b23d5831b38",
   "metadata": {},
   "outputs": [],
   "source": []
  },
  {
   "cell_type": "code",
   "execution_count": null,
   "id": "581fa2bb-573a-4f14-a668-bace24c6ea2d",
   "metadata": {},
   "outputs": [],
   "source": []
  },
  {
   "cell_type": "code",
   "execution_count": null,
   "id": "7e46ca18-e486-438b-b71e-2a2724980b2c",
   "metadata": {},
   "outputs": [],
   "source": []
  },
  {
   "cell_type": "code",
   "execution_count": null,
   "id": "e6b35180-f0e0-4c01-9c29-118f825d8700",
   "metadata": {},
   "outputs": [],
   "source": [
    "# sample_graph = er_graphs[\"graphs\"][9]\n",
    "# fig, ax = plt.subplots(figsize = (10, 6))\n",
    "# ig.plot(sample_graph, \n",
    "#         target = ax,\n",
    "#        vertex_color = block_sizes[0] * [\"blue\"] + block_sizes[1] * [\"red\"] )"
   ]
  },
  {
   "cell_type": "code",
   "execution_count": null,
   "id": "656693dc-9761-4e6b-be3e-07e06864bf11",
   "metadata": {},
   "outputs": [],
   "source": [
    "elapsed_time = np.round(end - start, 4)\n",
    "print('Elapsed time:', elapsed_time)"
   ]
  },
  {
   "cell_type": "code",
   "execution_count": null,
   "id": "01ff642b-c1ed-46bd-a667-67d1f6d624ad",
   "metadata": {},
   "outputs": [],
   "source": [
    "sns.set_style(\"whitegrid\")\n",
    "fig, ax = plt.subplots(figsize = (10, 6))\n",
    "_ = sns.lineplot(x = [i for i in range(df_plot.shape[0])],\n",
    "               y = df_plot[\"eigenvalues\"])\n",
    "ax.set_ylabel('Fidler value')\n",
    "sns.despine()"
   ]
  },
  {
   "cell_type": "code",
   "execution_count": null,
   "id": "53bbfb8d-9df0-4f51-8901-045b31e7c4ad",
   "metadata": {},
   "outputs": [],
   "source": [
    "spectral_analysis[spectral_analysis[\"fidler_value\"] == 0]"
   ]
  },
  {
   "cell_type": "code",
   "execution_count": null,
   "id": "940d5479-23c2-447e-87a5-3502bb6cb5d1",
   "metadata": {},
   "outputs": [],
   "source": [
    "sns.set_style(\"whitegrid\")\n",
    "fig, ax = plt.subplots(figsize = (10, 6))\n",
    "\n",
    "_ = sns.scatterplot(x = spectral_analysis[\"node\"],\n",
    "                    y = spectral_analysis[\"fidler_value\"],\n",
    "                    hue = spectral_analysis[\"community_groundtruth\"],\n",
    "                    palette = {0: \"red\", 1: \"blue\"},\n",
    "                   )\n",
    "# _ = sns.lineplot(x = spectral_analysis[\"node\"],\n",
    "#                 y = 0, color = \"green\", style=True, dashes=[(2,2)]\n",
    "#                 )\n",
    "ax.set_ylabel('Fidler value')\n",
    "sns.despine()"
   ]
  },
  {
   "cell_type": "code",
   "execution_count": null,
   "id": "4b12ffdb-5497-4ab5-ac48-54dcf8a53870",
   "metadata": {},
   "outputs": [],
   "source": [
    "er_graph = ig.Graph.Erdos_Renyi(n = n, p = 0.3)\n",
    "er_laplacian_matrix = ig.Graph.laplacian(er_graph, )\n",
    "\n",
    "er_eigenvalues, er_eigenvectors = linalg.eig(er_laplacian_matrix)\n",
    "er_fidler_eigenvector = er_eigenvectors[1]\n",
    "\n",
    "er_spectral_analysis = pd.DataFrame({\"node\": [i for i in range(n)],\"eigenvalues\": er_eigenvalues})\n",
    "\n",
    "er_spectral_analysis[\"fidler_value\"] = er_fidler_eigenvector\n",
    "er_spectral_analysis[\"community_membership\"] = er_spectral_analysis[\"fidler_value\"].apply(lambda x: 0 if x >= 0 else 1)\n",
    "# er_spectral_analysis[\"community_groundtruth\"] = block_sizes[0] * [0] + block_sizes[1] * [1]"
   ]
  },
  {
   "cell_type": "code",
   "execution_count": null,
   "id": "4e3e738d-6ec7-438f-a5a6-566fafa76608",
   "metadata": {},
   "outputs": [],
   "source": [
    "df_plot = er_spectral_analysis.sort_values(by = [\"eigenvalues\"])\n",
    "sns.set_style(\"whitegrid\")\n",
    "fig, ax = plt.subplots(figsize = (10, 6))\n",
    "_ = sns.lineplot(x = [i for i in range(df_plot.shape[0])],\n",
    "               y = df_plot[\"eigenvalues\"])\n",
    "ax.set_ylabel('Fidler value')\n",
    "sns.despine()"
   ]
  },
  {
   "cell_type": "code",
   "execution_count": null,
   "id": "8546759a-84ec-4f0a-ac6b-6b2f162f7bed",
   "metadata": {},
   "outputs": [],
   "source": []
  }
 ],
 "metadata": {
  "kernelspec": {
   "display_name": "Python 3",
   "language": "python",
   "name": "python3"
  },
  "language_info": {
   "codemirror_mode": {
    "name": "ipython",
    "version": 3
   },
   "file_extension": ".py",
   "mimetype": "text/x-python",
   "name": "python",
   "nbconvert_exporter": "python",
   "pygments_lexer": "ipython3",
   "version": "3.7.6"
  }
 },
 "nbformat": 4,
 "nbformat_minor": 5
}
