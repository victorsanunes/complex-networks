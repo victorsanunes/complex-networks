{
 "cells": [
  {
   "cell_type": "code",
   "execution_count": 1,
   "id": "a6b9a884-0728-432f-a4aa-3fcba09f9479",
   "metadata": {},
   "outputs": [],
   "source": [
    "%config Completer.use_jedi = False"
   ]
  },
  {
   "cell_type": "code",
   "execution_count": 17,
   "id": "38f4673e-44ab-4b4e-827a-64b993c02d2f",
   "metadata": {},
   "outputs": [],
   "source": [
    "import igraph as ig\n",
    "import pandas as pd\n",
    "import numpy as np"
   ]
  },
  {
   "cell_type": "markdown",
   "id": "199c698b-db3d-4e02-b835-37662940dfb5",
   "metadata": {},
   "source": [
    "## Graph parameters"
   ]
  },
  {
   "cell_type": "code",
   "execution_count": 4,
   "id": "b04d1d67-2b3e-4147-b726-c880f9d09bff",
   "metadata": {},
   "outputs": [],
   "source": [
    "nodes_array = [10e1, 10e2, 10e3]\n",
    "probabilities_array = [0.3, 0.5, 0.9, 1]\n",
    "edges_array = [10e1, 10e2, 10e3]\n",
    "network_numbers = 3"
   ]
  },
  {
   "cell_type": "markdown",
   "id": "d2572f52-b406-41df-be62-e3a69289101a",
   "metadata": {},
   "source": [
    "## Graph building"
   ]
  },
  {
   "cell_type": "code",
   "execution_count": 5,
   "id": "5618409c-b6ae-445c-ba88-7d63c5e4fb1d",
   "metadata": {
    "tags": []
   },
   "outputs": [],
   "source": [
    "# A Python program to print all\n",
    "# permutations using library function\n",
    "from itertools import product\n",
    "\n",
    "# Get all permutations of [1, 2, 3]\n",
    "perm = product(*[nodes_array, probabilities_array])\n",
    "\n",
    "graphs_dict = dict()\n",
    "# Print the obtained permutations\n",
    "for network_property in list(perm):\n",
    "    graphs_list = list()\n",
    "    \n",
    "    for i in range(network_numbers):\n",
    "        \n",
    "        nodes = int(network_property[0])\n",
    "    #     edges = int(i[1])\n",
    "        probability = network_property[1]\n",
    "#         print(nodes, \"nodes with \", probability, \"probability\")\n",
    "        graph = ig.Graph.Erdos_Renyi(n = nodes, p = probability)\n",
    "        graphs_list.append(graph)\n",
    "    \n",
    "    key = str(nodes) + '_nodes__' + str(probability) + \"_probability\"\n",
    "    graphs_dict[key] = graphs_list"
   ]
  },
  {
   "cell_type": "markdown",
   "id": "186a85b7-74d6-4e4a-8d4b-01b78f2940cc",
   "metadata": {},
   "source": [
    "## Can you observe the connectivity threshold?"
   ]
  },
  {
   "cell_type": "markdown",
   "id": "ea4cfa20-df63-4e70-864b-f2377dea9442",
   "metadata": {},
   "source": [
    "## Extract the giant components and characterize them"
   ]
  },
  {
   "cell_type": "markdown",
   "id": "7f208215-4f87-492d-897c-f42a13b581b2",
   "metadata": {},
   "source": [
    "## Does the network diameter follows the logarithimic variation?"
   ]
  },
  {
   "cell_type": "code",
   "execution_count": 23,
   "id": "11052fa4-ac48-4065-8754-522ddaa36c17",
   "metadata": {},
   "outputs": [
    {
     "name": "stdout",
     "output_type": "stream",
     "text": [
      "z: 30.0 log(n): 4.605170185988092 q:  0.01\n",
      "z: 50.0 log(n): 4.605170185988092 q:  0.01\n",
      "z: 90.0 log(n): 4.605170185988092 q:  0.01\n",
      "z: 100 log(n): 4.605170185988092 q:  0.01\n",
      "z: 300.0 log(n): 6.907755278982137 q:  0.001\n",
      "z: 500.0 log(n): 6.907755278982137 q:  0.001\n",
      "z: 900.0 log(n): 6.907755278982137 q:  0.001\n",
      "z: 1000 log(n): 6.907755278982137 q:  0.001\n",
      "z: 3000.0 log(n): 9.210340371976184 q:  0.0001\n",
      "z: 5000.0 log(n): 9.210340371976184 q:  0.0001\n",
      "z: 9000.0 log(n): 9.210340371976184 q:  0.0001\n",
      "z: 10000 log(n): 9.210340371976184 q:  0.0001\n"
     ]
    }
   ],
   "source": [
    "perm = product(*[nodes_array, probabilities_array])\n",
    "# Print the obtained permutations\n",
    "for network_property in list(perm):\n",
    "    nodes = int(network_property[0])\n",
    "    probability = network_property[1]\n",
    "    z = probability*nodes\n",
    "    print(\"z:\", z, \"log(n):\", np.log(nodes), \"q: \", 1/nodes)"
   ]
  },
  {
   "cell_type": "code",
   "execution_count": null,
   "id": "e8d954bb-b1e0-40a6-8f6c-851391618559",
   "metadata": {},
   "outputs": [],
   "source": []
  }
 ],
 "metadata": {
  "kernelspec": {
   "display_name": "Python 3",
   "language": "python",
   "name": "python3"
  },
  "language_info": {
   "codemirror_mode": {
    "name": "ipython",
    "version": 3
   },
   "file_extension": ".py",
   "mimetype": "text/x-python",
   "name": "python",
   "nbconvert_exporter": "python",
   "pygments_lexer": "ipython3",
   "version": "3.7.6"
  }
 },
 "nbformat": 4,
 "nbformat_minor": 5
}
