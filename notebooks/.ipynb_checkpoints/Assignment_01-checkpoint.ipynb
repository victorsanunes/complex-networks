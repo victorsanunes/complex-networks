{
 "cells": [
  {
   "cell_type": "code",
   "execution_count": 1,
   "id": "a6b9a884-0728-432f-a4aa-3fcba09f9479",
   "metadata": {},
   "outputs": [],
   "source": [
    "%config Completer.use_jedi = False"
   ]
  },
  {
   "cell_type": "code",
   "execution_count": 21,
   "id": "38f4673e-44ab-4b4e-827a-64b993c02d2f",
   "metadata": {},
   "outputs": [],
   "source": [
    "import igraph as ig\n",
    "import pandas as pd\n",
    "import numpy as np\n",
    "import matplotlib.pyplot as plt\n",
    "import seaborn as sns"
   ]
  },
  {
   "cell_type": "markdown",
   "id": "199c698b-db3d-4e02-b835-37662940dfb5",
   "metadata": {},
   "source": [
    "## Graph parameters"
   ]
  },
  {
   "cell_type": "code",
   "execution_count": 5,
   "id": "b04d1d67-2b3e-4147-b726-c880f9d09bff",
   "metadata": {},
   "outputs": [],
   "source": [
    "nodes_array = [10e0, 10e1, 10e2]\n",
    "probabilities_array = [0, 0.0001, 0.001, 0.01, 0.1, 0.5, 1]\n",
    "ensemble_size = 5"
   ]
  },
  {
   "cell_type": "markdown",
   "id": "d2572f52-b406-41df-be62-e3a69289101a",
   "metadata": {},
   "source": [
    "## Graph building"
   ]
  },
  {
   "cell_type": "code",
   "execution_count": 6,
   "id": "5618409c-b6ae-445c-ba88-7d63c5e4fb1d",
   "metadata": {
    "tags": []
   },
   "outputs": [
    {
     "name": "stdout",
     "output_type": "stream",
     "text": [
      "CPU times: user 508 ms, sys: 55.9 ms, total: 564 ms\n",
      "Wall time: 566 ms\n"
     ]
    }
   ],
   "source": [
    "%%time\n",
    "# A Python program to print all\n",
    "# permutations using library function\n",
    "from itertools import product\n",
    "\n",
    "# Get all permutations of nodes and probabilities\n",
    "perm = product(*[nodes_array, probabilities_array])\n",
    "\n",
    "graphs_dict = dict()\n",
    "# Print the obtained permutations\n",
    "for network_property in list(perm):\n",
    "    graphs_list = list()\n",
    "    \n",
    "    for i in range(ensemble_size):\n",
    "        \n",
    "        nodes = int(network_property[0])\n",
    "    #     edges = int(i[1])\n",
    "        probability = network_property[1]\n",
    "#         print(nodes, \"nodes with \", probability, \"probability\")\n",
    "        graph = ig.Graph.Erdos_Renyi(n = nodes, p = probability)\n",
    "        graphs_list.append(graph)\n",
    "    \n",
    "    key = str(nodes) + '_nodes__' + str(probability) + \"_probability\"\n",
    "    graphs_dict[key] = dict()\n",
    "    graphs_dict[key]['graphs'] = graphs_list\n",
    "    graphs_dict[key][\"nodes\"] = nodes\n",
    "    graphs_dict[key][\"probability\"] = probability    "
   ]
  },
  {
   "cell_type": "code",
   "execution_count": 8,
   "id": "11052fa4-ac48-4065-8754-522ddaa36c17",
   "metadata": {},
   "outputs": [],
   "source": [
    "avg_degrees = list()\n",
    "nodes_number = list()\n",
    "connection_probabilities = list()\n",
    "diameters = list()\n",
    "for key in graphs_dict.keys():\n",
    "    \n",
    "    for graph in graphs_dict[key][\"graphs\"]:\n",
    "        nodes_degree = graph.degree()\n",
    "        diameters.append(len(graph.get_diameter()))\n",
    "        nodes_number.append(graphs_dict[key][\"nodes\"])\n",
    "        connection_probabilities.append(graphs_dict[key][\"probability\"])\n",
    "        avg_degrees.append(np.mean(nodes_degree))"
   ]
  },
  {
   "cell_type": "markdown",
   "id": "b84dba57-5f56-452c-bb50-d1d6fb2bc1b0",
   "metadata": {},
   "source": [
    "## Calculate statistics and metrics"
   ]
  },
  {
   "cell_type": "code",
   "execution_count": 9,
   "id": "8b21166f-6d09-458a-b803-3cee3cfbc3b2",
   "metadata": {},
   "outputs": [
    {
     "data": {
      "text/html": [
       "<div>\n",
       "<style scoped>\n",
       "    .dataframe tbody tr th:only-of-type {\n",
       "        vertical-align: middle;\n",
       "    }\n",
       "\n",
       "    .dataframe tbody tr th {\n",
       "        vertical-align: top;\n",
       "    }\n",
       "\n",
       "    .dataframe thead th {\n",
       "        text-align: right;\n",
       "    }\n",
       "</style>\n",
       "<table border=\"1\" class=\"dataframe\">\n",
       "  <thead>\n",
       "    <tr style=\"text-align: right;\">\n",
       "      <th></th>\n",
       "      <th>avg_degree</th>\n",
       "      <th>nodes_number</th>\n",
       "      <th>connection_probabilities</th>\n",
       "      <th>thoerytical_avg_degree</th>\n",
       "      <th>log(n)</th>\n",
       "      <th>1/n</th>\n",
       "      <th>diameter</th>\n",
       "    </tr>\n",
       "  </thead>\n",
       "  <tbody>\n",
       "    <tr>\n",
       "      <th>0</th>\n",
       "      <td>0.0</td>\n",
       "      <td>10</td>\n",
       "      <td>0.0</td>\n",
       "      <td>0.0</td>\n",
       "      <td>2.302585</td>\n",
       "      <td>0.100</td>\n",
       "      <td>1</td>\n",
       "    </tr>\n",
       "    <tr>\n",
       "      <th>1</th>\n",
       "      <td>0.0</td>\n",
       "      <td>10</td>\n",
       "      <td>0.0</td>\n",
       "      <td>0.0</td>\n",
       "      <td>2.302585</td>\n",
       "      <td>0.100</td>\n",
       "      <td>1</td>\n",
       "    </tr>\n",
       "    <tr>\n",
       "      <th>2</th>\n",
       "      <td>0.0</td>\n",
       "      <td>10</td>\n",
       "      <td>0.0</td>\n",
       "      <td>0.0</td>\n",
       "      <td>2.302585</td>\n",
       "      <td>0.100</td>\n",
       "      <td>1</td>\n",
       "    </tr>\n",
       "    <tr>\n",
       "      <th>3</th>\n",
       "      <td>0.0</td>\n",
       "      <td>10</td>\n",
       "      <td>0.0</td>\n",
       "      <td>0.0</td>\n",
       "      <td>2.302585</td>\n",
       "      <td>0.100</td>\n",
       "      <td>1</td>\n",
       "    </tr>\n",
       "    <tr>\n",
       "      <th>4</th>\n",
       "      <td>0.0</td>\n",
       "      <td>10</td>\n",
       "      <td>0.0</td>\n",
       "      <td>0.0</td>\n",
       "      <td>2.302585</td>\n",
       "      <td>0.100</td>\n",
       "      <td>1</td>\n",
       "    </tr>\n",
       "    <tr>\n",
       "      <th>...</th>\n",
       "      <td>...</td>\n",
       "      <td>...</td>\n",
       "      <td>...</td>\n",
       "      <td>...</td>\n",
       "      <td>...</td>\n",
       "      <td>...</td>\n",
       "      <td>...</td>\n",
       "    </tr>\n",
       "    <tr>\n",
       "      <th>100</th>\n",
       "      <td>999.0</td>\n",
       "      <td>1000</td>\n",
       "      <td>1.0</td>\n",
       "      <td>999.0</td>\n",
       "      <td>6.907755</td>\n",
       "      <td>0.001</td>\n",
       "      <td>2</td>\n",
       "    </tr>\n",
       "    <tr>\n",
       "      <th>101</th>\n",
       "      <td>999.0</td>\n",
       "      <td>1000</td>\n",
       "      <td>1.0</td>\n",
       "      <td>999.0</td>\n",
       "      <td>6.907755</td>\n",
       "      <td>0.001</td>\n",
       "      <td>2</td>\n",
       "    </tr>\n",
       "    <tr>\n",
       "      <th>102</th>\n",
       "      <td>999.0</td>\n",
       "      <td>1000</td>\n",
       "      <td>1.0</td>\n",
       "      <td>999.0</td>\n",
       "      <td>6.907755</td>\n",
       "      <td>0.001</td>\n",
       "      <td>2</td>\n",
       "    </tr>\n",
       "    <tr>\n",
       "      <th>103</th>\n",
       "      <td>999.0</td>\n",
       "      <td>1000</td>\n",
       "      <td>1.0</td>\n",
       "      <td>999.0</td>\n",
       "      <td>6.907755</td>\n",
       "      <td>0.001</td>\n",
       "      <td>2</td>\n",
       "    </tr>\n",
       "    <tr>\n",
       "      <th>104</th>\n",
       "      <td>999.0</td>\n",
       "      <td>1000</td>\n",
       "      <td>1.0</td>\n",
       "      <td>999.0</td>\n",
       "      <td>6.907755</td>\n",
       "      <td>0.001</td>\n",
       "      <td>2</td>\n",
       "    </tr>\n",
       "  </tbody>\n",
       "</table>\n",
       "<p>105 rows × 7 columns</p>\n",
       "</div>"
      ],
      "text/plain": [
       "     avg_degree  nodes_number  connection_probabilities  \\\n",
       "0           0.0            10                       0.0   \n",
       "1           0.0            10                       0.0   \n",
       "2           0.0            10                       0.0   \n",
       "3           0.0            10                       0.0   \n",
       "4           0.0            10                       0.0   \n",
       "..          ...           ...                       ...   \n",
       "100       999.0          1000                       1.0   \n",
       "101       999.0          1000                       1.0   \n",
       "102       999.0          1000                       1.0   \n",
       "103       999.0          1000                       1.0   \n",
       "104       999.0          1000                       1.0   \n",
       "\n",
       "     thoerytical_avg_degree    log(n)    1/n  diameter  \n",
       "0                       0.0  2.302585  0.100         1  \n",
       "1                       0.0  2.302585  0.100         1  \n",
       "2                       0.0  2.302585  0.100         1  \n",
       "3                       0.0  2.302585  0.100         1  \n",
       "4                       0.0  2.302585  0.100         1  \n",
       "..                      ...       ...    ...       ...  \n",
       "100                   999.0  6.907755  0.001         2  \n",
       "101                   999.0  6.907755  0.001         2  \n",
       "102                   999.0  6.907755  0.001         2  \n",
       "103                   999.0  6.907755  0.001         2  \n",
       "104                   999.0  6.907755  0.001         2  \n",
       "\n",
       "[105 rows x 7 columns]"
      ]
     },
     "execution_count": 9,
     "metadata": {},
     "output_type": "execute_result"
    }
   ],
   "source": [
    "ensemble_analysis = pd.DataFrame(data = avg_degrees, columns = [\"avg_degree\"])\n",
    "ensemble_analysis[\"nodes_number\"] = nodes_number\n",
    "ensemble_analysis[\"connection_probabilities\"] = connection_probabilities\n",
    "ensemble_analysis[\"thoerytical_avg_degree\"] = ensemble_analysis[\"connection_probabilities\"] * (ensemble_analysis[\"nodes_number\"] - 1)\n",
    "ensemble_analysis[\"log(n)\"] = np.log(ensemble_analysis[\"nodes_number\"])\n",
    "ensemble_analysis[\"1/n\"] = 1/ensemble_analysis[\"nodes_number\"]\n",
    "ensemble_analysis[\"diameter\"] = diameters\n",
    "ensemble_analysis"
   ]
  },
  {
   "cell_type": "code",
   "execution_count": 10,
   "id": "5cba665d-b4bf-47a7-b1ad-a68a36fa6a03",
   "metadata": {},
   "outputs": [
    {
     "data": {
      "text/html": [
       "<div>\n",
       "<style scoped>\n",
       "    .dataframe tbody tr th:only-of-type {\n",
       "        vertical-align: middle;\n",
       "    }\n",
       "\n",
       "    .dataframe tbody tr th {\n",
       "        vertical-align: top;\n",
       "    }\n",
       "\n",
       "    .dataframe thead tr th {\n",
       "        text-align: left;\n",
       "    }\n",
       "\n",
       "    .dataframe thead tr:last-of-type th {\n",
       "        text-align: right;\n",
       "    }\n",
       "</style>\n",
       "<table border=\"1\" class=\"dataframe\">\n",
       "  <thead>\n",
       "    <tr>\n",
       "      <th></th>\n",
       "      <th></th>\n",
       "      <th colspan=\"5\" halign=\"left\">mean</th>\n",
       "    </tr>\n",
       "    <tr>\n",
       "      <th></th>\n",
       "      <th></th>\n",
       "      <th>1/n</th>\n",
       "      <th>avg_degree</th>\n",
       "      <th>diameter</th>\n",
       "      <th>log(n)</th>\n",
       "      <th>thoerytical_avg_degree</th>\n",
       "    </tr>\n",
       "    <tr>\n",
       "      <th>nodes_number</th>\n",
       "      <th>connection_probabilities</th>\n",
       "      <th></th>\n",
       "      <th></th>\n",
       "      <th></th>\n",
       "      <th></th>\n",
       "      <th></th>\n",
       "    </tr>\n",
       "  </thead>\n",
       "  <tbody>\n",
       "    <tr>\n",
       "      <th rowspan=\"7\" valign=\"top\">10</th>\n",
       "      <th>0.0000</th>\n",
       "      <td>0.100</td>\n",
       "      <td>0.0000</td>\n",
       "      <td>1.0</td>\n",
       "      <td>2.302585</td>\n",
       "      <td>0.0000</td>\n",
       "    </tr>\n",
       "    <tr>\n",
       "      <th>0.0001</th>\n",
       "      <td>0.100</td>\n",
       "      <td>0.0000</td>\n",
       "      <td>1.0</td>\n",
       "      <td>2.302585</td>\n",
       "      <td>0.0009</td>\n",
       "    </tr>\n",
       "    <tr>\n",
       "      <th>0.0010</th>\n",
       "      <td>0.100</td>\n",
       "      <td>0.0000</td>\n",
       "      <td>1.0</td>\n",
       "      <td>2.302585</td>\n",
       "      <td>0.0090</td>\n",
       "    </tr>\n",
       "    <tr>\n",
       "      <th>0.0100</th>\n",
       "      <td>0.100</td>\n",
       "      <td>0.0400</td>\n",
       "      <td>1.2</td>\n",
       "      <td>2.302585</td>\n",
       "      <td>0.0900</td>\n",
       "    </tr>\n",
       "    <tr>\n",
       "      <th>0.1000</th>\n",
       "      <td>0.100</td>\n",
       "      <td>0.9200</td>\n",
       "      <td>4.4</td>\n",
       "      <td>2.302585</td>\n",
       "      <td>0.9000</td>\n",
       "    </tr>\n",
       "    <tr>\n",
       "      <th>0.5000</th>\n",
       "      <td>0.100</td>\n",
       "      <td>5.0800</td>\n",
       "      <td>3.4</td>\n",
       "      <td>2.302585</td>\n",
       "      <td>4.5000</td>\n",
       "    </tr>\n",
       "    <tr>\n",
       "      <th>1.0000</th>\n",
       "      <td>0.100</td>\n",
       "      <td>9.0000</td>\n",
       "      <td>2.0</td>\n",
       "      <td>2.302585</td>\n",
       "      <td>9.0000</td>\n",
       "    </tr>\n",
       "    <tr>\n",
       "      <th rowspan=\"7\" valign=\"top\">100</th>\n",
       "      <th>0.0000</th>\n",
       "      <td>0.010</td>\n",
       "      <td>0.0000</td>\n",
       "      <td>1.0</td>\n",
       "      <td>4.605170</td>\n",
       "      <td>0.0000</td>\n",
       "    </tr>\n",
       "    <tr>\n",
       "      <th>0.0001</th>\n",
       "      <td>0.010</td>\n",
       "      <td>0.0120</td>\n",
       "      <td>1.6</td>\n",
       "      <td>4.605170</td>\n",
       "      <td>0.0099</td>\n",
       "    </tr>\n",
       "    <tr>\n",
       "      <th>0.0010</th>\n",
       "      <td>0.010</td>\n",
       "      <td>0.1160</td>\n",
       "      <td>2.4</td>\n",
       "      <td>4.605170</td>\n",
       "      <td>0.0990</td>\n",
       "    </tr>\n",
       "    <tr>\n",
       "      <th>0.0100</th>\n",
       "      <td>0.010</td>\n",
       "      <td>0.9800</td>\n",
       "      <td>10.4</td>\n",
       "      <td>4.605170</td>\n",
       "      <td>0.9900</td>\n",
       "    </tr>\n",
       "    <tr>\n",
       "      <th>0.1000</th>\n",
       "      <td>0.010</td>\n",
       "      <td>9.8480</td>\n",
       "      <td>5.2</td>\n",
       "      <td>4.605170</td>\n",
       "      <td>9.9000</td>\n",
       "    </tr>\n",
       "    <tr>\n",
       "      <th>0.5000</th>\n",
       "      <td>0.010</td>\n",
       "      <td>49.7440</td>\n",
       "      <td>3.0</td>\n",
       "      <td>4.605170</td>\n",
       "      <td>49.5000</td>\n",
       "    </tr>\n",
       "    <tr>\n",
       "      <th>1.0000</th>\n",
       "      <td>0.010</td>\n",
       "      <td>99.0000</td>\n",
       "      <td>2.0</td>\n",
       "      <td>4.605170</td>\n",
       "      <td>99.0000</td>\n",
       "    </tr>\n",
       "    <tr>\n",
       "      <th rowspan=\"7\" valign=\"top\">1000</th>\n",
       "      <th>0.0000</th>\n",
       "      <td>0.001</td>\n",
       "      <td>0.0000</td>\n",
       "      <td>1.0</td>\n",
       "      <td>6.907755</td>\n",
       "      <td>0.0000</td>\n",
       "    </tr>\n",
       "    <tr>\n",
       "      <th>0.0001</th>\n",
       "      <td>0.001</td>\n",
       "      <td>0.0956</td>\n",
       "      <td>3.4</td>\n",
       "      <td>6.907755</td>\n",
       "      <td>0.0999</td>\n",
       "    </tr>\n",
       "    <tr>\n",
       "      <th>0.0010</th>\n",
       "      <td>0.001</td>\n",
       "      <td>0.9656</td>\n",
       "      <td>28.0</td>\n",
       "      <td>6.907755</td>\n",
       "      <td>0.9990</td>\n",
       "    </tr>\n",
       "    <tr>\n",
       "      <th>0.0100</th>\n",
       "      <td>0.001</td>\n",
       "      <td>9.9700</td>\n",
       "      <td>6.4</td>\n",
       "      <td>6.907755</td>\n",
       "      <td>9.9900</td>\n",
       "    </tr>\n",
       "    <tr>\n",
       "      <th>0.1000</th>\n",
       "      <td>0.001</td>\n",
       "      <td>99.8000</td>\n",
       "      <td>4.0</td>\n",
       "      <td>6.907755</td>\n",
       "      <td>99.9000</td>\n",
       "    </tr>\n",
       "    <tr>\n",
       "      <th>0.5000</th>\n",
       "      <td>0.001</td>\n",
       "      <td>499.5100</td>\n",
       "      <td>3.0</td>\n",
       "      <td>6.907755</td>\n",
       "      <td>499.5000</td>\n",
       "    </tr>\n",
       "    <tr>\n",
       "      <th>1.0000</th>\n",
       "      <td>0.001</td>\n",
       "      <td>999.0000</td>\n",
       "      <td>2.0</td>\n",
       "      <td>6.907755</td>\n",
       "      <td>999.0000</td>\n",
       "    </tr>\n",
       "  </tbody>\n",
       "</table>\n",
       "</div>"
      ],
      "text/plain": [
       "                                        mean                                \\\n",
       "                                         1/n avg_degree diameter    log(n)   \n",
       "nodes_number connection_probabilities                                        \n",
       "10           0.0000                    0.100     0.0000      1.0  2.302585   \n",
       "             0.0001                    0.100     0.0000      1.0  2.302585   \n",
       "             0.0010                    0.100     0.0000      1.0  2.302585   \n",
       "             0.0100                    0.100     0.0400      1.2  2.302585   \n",
       "             0.1000                    0.100     0.9200      4.4  2.302585   \n",
       "             0.5000                    0.100     5.0800      3.4  2.302585   \n",
       "             1.0000                    0.100     9.0000      2.0  2.302585   \n",
       "100          0.0000                    0.010     0.0000      1.0  4.605170   \n",
       "             0.0001                    0.010     0.0120      1.6  4.605170   \n",
       "             0.0010                    0.010     0.1160      2.4  4.605170   \n",
       "             0.0100                    0.010     0.9800     10.4  4.605170   \n",
       "             0.1000                    0.010     9.8480      5.2  4.605170   \n",
       "             0.5000                    0.010    49.7440      3.0  4.605170   \n",
       "             1.0000                    0.010    99.0000      2.0  4.605170   \n",
       "1000         0.0000                    0.001     0.0000      1.0  6.907755   \n",
       "             0.0001                    0.001     0.0956      3.4  6.907755   \n",
       "             0.0010                    0.001     0.9656     28.0  6.907755   \n",
       "             0.0100                    0.001     9.9700      6.4  6.907755   \n",
       "             0.1000                    0.001    99.8000      4.0  6.907755   \n",
       "             0.5000                    0.001   499.5100      3.0  6.907755   \n",
       "             1.0000                    0.001   999.0000      2.0  6.907755   \n",
       "\n",
       "                                                              \n",
       "                                      thoerytical_avg_degree  \n",
       "nodes_number connection_probabilities                         \n",
       "10           0.0000                                   0.0000  \n",
       "             0.0001                                   0.0009  \n",
       "             0.0010                                   0.0090  \n",
       "             0.0100                                   0.0900  \n",
       "             0.1000                                   0.9000  \n",
       "             0.5000                                   4.5000  \n",
       "             1.0000                                   9.0000  \n",
       "100          0.0000                                   0.0000  \n",
       "             0.0001                                   0.0099  \n",
       "             0.0010                                   0.0990  \n",
       "             0.0100                                   0.9900  \n",
       "             0.1000                                   9.9000  \n",
       "             0.5000                                  49.5000  \n",
       "             1.0000                                  99.0000  \n",
       "1000         0.0000                                   0.0000  \n",
       "             0.0001                                   0.0999  \n",
       "             0.0010                                   0.9990  \n",
       "             0.0100                                   9.9900  \n",
       "             0.1000                                  99.9000  \n",
       "             0.5000                                 499.5000  \n",
       "             1.0000                                 999.0000  "
      ]
     },
     "execution_count": 10,
     "metadata": {},
     "output_type": "execute_result"
    }
   ],
   "source": [
    "ensemble_analysis.pivot_table(index = [\"nodes_number\", \"connection_probabilities\"],\n",
    "                                 values = ['avg_degree', \"log(n)\", \"1/n\", \"diameter\", \"thoerytical_avg_degree\"],\n",
    "                                 aggfunc = [\"mean\"])"
   ]
  },
  {
   "cell_type": "markdown",
   "id": "186a85b7-74d6-4e4a-8d4b-01b78f2940cc",
   "metadata": {},
   "source": [
    "## Can you observe the connectivity threshold?\n",
    "\n",
    "We saw that if $\\frac{q(n)}{q^P(n)} \\rightarrow \\infty$ P is valid with high probability (whp). Also if we observe that $\\frac{q(n)}{q^P(n)} \\rightarrow 0$ P is not valid w.h.p., where P is a network property. To have connectivity we should observe\n",
    "\n",
    "$$\\frac{z}{log(n)} \\rightarrow \\infty$$\n",
    "\n",
    "So, in order to have connectivity, $z$ should growth at least $log(n)$. Analyzing the table above we can see that for some networks $z$ is lower than $log(n)$ (e.g. $\\{G(10, 0.0001), G(10, 0.001), G(10, 0.01), G(10, 0.1)\\}$\n",
    "\n",
    "The graph below, shows a sample of $G(10, 0.1)$"
   ]
  },
  {
   "cell_type": "code",
   "execution_count": 22,
   "id": "38d22dd6-c2ab-4a65-8f66-96186a895ef5",
   "metadata": {},
   "outputs": [
    {
     "data": {
      "image/png": "[encoded data removed]",
      "text/plain": [
       "<Figure size 432x288 with 1 Axes>"
      ]
     },
     "metadata": {
      "needs_background": "light"
     },
     "output_type": "display_data"
    }
   ],
   "source": [
    "sample_graph = graphs_dict[\"10_nodes__0.1_probability\"][\"graphs\"][4]\n",
    "layout = sample_graph.layout(layout='circle')\n",
    "\n",
    "fig, ax = plt.subplots()\n",
    "ig.plot(sample_graph, target=ax)\n",
    "\n",
    "sns.despine(left = True, bottom = True)"
   ]
  },
  {
   "cell_type": "markdown",
   "id": "f4f148ba-3c79-43ff-96b4-9fd73afbc93c",
   "metadata": {},
   "source": [
    "As the probability is increasead, the connectivity can be observed."
   ]
  },
  {
   "cell_type": "code",
   "execution_count": 23,
   "id": "65bac367-b703-4c3a-b1e3-9e309dde0d45",
   "metadata": {},
   "outputs": [
    {
     "data": {
      "image/png": "[encoded data removed]",
      "text/plain": [
       "<Figure size 432x288 with 1 Axes>"
      ]
     },
     "metadata": {
      "needs_background": "light"
     },
     "output_type": "display_data"
    }
   ],
   "source": [
    "sample_graph = graphs_dict[\"10_nodes__0.5_probability\"][\"graphs\"][4]\n",
    "layout = sample_graph.layout(layout='circle')\n",
    "\n",
    "fig, ax = plt.subplots()\n",
    "ig.plot(sample_graph, target=ax)\n",
    "\n",
    "sns.despine(left = True, bottom = True)"
   ]
  },
  {
   "cell_type": "markdown",
   "id": "ea4cfa20-df63-4e70-864b-f2377dea9442",
   "metadata": {},
   "source": [
    "## Extract the giant components and characterize them"
   ]
  },
  {
   "cell_type": "code",
   "execution_count": 13,
   "id": "b0c664d5-ac8c-4ee3-8fec-810386ee7370",
   "metadata": {},
   "outputs": [],
   "source": [
    "sample_graph = graphs_dict[\"10_nodes__0.1_probability\"][\"graphs\"][4]"
   ]
  },
  {
   "cell_type": "code",
   "execution_count": 14,
   "id": "2d5aa311-f7bf-43a7-9c38-51941cf781cd",
   "metadata": {},
   "outputs": [
    {
     "data": {
      "text/plain": [
       "[0.0, nan, nan, nan, nan, nan, nan, nan, nan, nan]"
      ]
     },
     "execution_count": 14,
     "metadata": {},
     "output_type": "execute_result"
    }
   ],
   "source": [
    "sample_graph.transitivity_local_undirected()"
   ]
  },
  {
   "cell_type": "code",
   "execution_count": 15,
   "id": "ec0ee17d-090d-4264-a024-98bb9c6bb9ff",
   "metadata": {},
   "outputs": [],
   "source": [
    "giant = sample_graph.clusters().giant()"
   ]
  },
  {
   "cell_type": "code",
   "execution_count": 16,
   "id": "4db5ac48-3d31-43e9-894e-1822b6d06490",
   "metadata": {},
   "outputs": [],
   "source": [
    "layout = sample_graph.layout(layout='circle')"
   ]
  },
  {
   "cell_type": "code",
   "execution_count": 17,
   "id": "2cb6b9d2-0dd0-491e-8594-618ab64c8d2d",
   "metadata": {},
   "outputs": [
    {
     "data": {
      "image/png": "[encoded data removed]",
      "text/plain": [
       "<Figure size 432x288 with 1 Axes>"
      ]
     },
     "metadata": {
      "needs_background": "light"
     },
     "output_type": "display_data"
    }
   ],
   "source": [
    "\n",
    "\n",
    "fig, ax = plt.subplots()\n",
    "ig.plot(sample_graph, target=ax)\n",
    "\n",
    "sns.despine(left = True, bottom = True)"
   ]
  },
  {
   "cell_type": "code",
   "execution_count": 18,
   "id": "7c6f805a-2ae7-4a80-a779-334e4a5aa5e8",
   "metadata": {},
   "outputs": [
    {
     "data": {
      "image/png": "[encoded data removed]",
      "text/plain": [
       "<Figure size 432x288 with 1 Axes>"
      ]
     },
     "metadata": {
      "needs_background": "light"
     },
     "output_type": "display_data"
    }
   ],
   "source": [
    "import matplotlib.pyplot as plt\n",
    "import seaborn as sns\n",
    "\n",
    "fig, ax = plt.subplots()\n",
    "ig.plot(giant, target=ax)\n",
    "\n",
    "sns.despine(left = True, bottom = True)"
   ]
  },
  {
   "cell_type": "code",
   "execution_count": 19,
   "id": "8346e25c-8e87-45cd-8292-642f7433b9c8",
   "metadata": {},
   "outputs": [],
   "source": [
    "cl = sample_graph.clusters()"
   ]
  },
  {
   "cell_type": "code",
   "execution_count": 20,
   "id": "e42547e1-5113-4dfe-b6eb-3126f22d55bd",
   "metadata": {},
   "outputs": [
    {
     "data": {
      "text/plain": [
       "[1, 0, 2]"
      ]
     },
     "execution_count": 20,
     "metadata": {},
     "output_type": "execute_result"
    }
   ],
   "source": [
    "giant.get_diameter()"
   ]
  },
  {
   "cell_type": "markdown",
   "id": "7f208215-4f87-492d-897c-f42a13b581b2",
   "metadata": {},
   "source": [
    "## Does the network diameter follows the logarithimic variation?"
   ]
  },
  {
   "cell_type": "code",
   "execution_count": null,
   "id": "3c3ee218-6f5d-4961-94b6-23014ddde0b3",
   "metadata": {},
   "outputs": [],
   "source": []
  },
  {
   "cell_type": "code",
   "execution_count": null,
   "id": "83657d20-1845-49d1-b2bb-bfc305c7eff5",
   "metadata": {},
   "outputs": [],
   "source": []
  }
 ],
 "metadata": {
  "kernelspec": {
   "display_name": "Python 3",
   "language": "python",
   "name": "python3"
  },
  "language_info": {
   "codemirror_mode": {
    "name": "ipython",
    "version": 3
   },
   "file_extension": ".py",
   "mimetype": "text/x-python",
   "name": "python",
   "nbconvert_exporter": "python",
   "pygments_lexer": "ipython3",
   "version": "3.7.6"
  }
 },
 "nbformat": 4,
 "nbformat_minor": 5
}
