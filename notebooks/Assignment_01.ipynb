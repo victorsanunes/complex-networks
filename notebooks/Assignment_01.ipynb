{
 "cells": [
  {
   "cell_type": "code",
   "execution_count": 1,
   "id": "a6b9a884-0728-432f-a4aa-3fcba09f9479",
   "metadata": {},
   "outputs": [],
   "source": [
    "%config Completer.use_jedi = False"
   ]
  },
  {
   "cell_type": "code",
   "execution_count": 2,
   "id": "38f4673e-44ab-4b4e-827a-64b993c02d2f",
   "metadata": {},
   "outputs": [],
   "source": [
    "import igraph as ig\n",
    "import pandas as pd\n",
    "import numpy as np\n",
    "import matplotlib.pyplot as plt\n",
    "import seaborn as sns"
   ]
  },
  {
   "cell_type": "markdown",
   "id": "199c698b-db3d-4e02-b835-37662940dfb5",
   "metadata": {},
   "source": [
    "## Graph parameters\n",
    "\n",
    "We're going to build some Erdos-Renyi (ER) models varying its parameters. When we fix a connection probability we're also fixing its degree. So we'll create some realizations for each combination of n and z."
   ]
  },
  {
   "cell_type": "code",
   "execution_count": 3,
   "id": "b04d1d67-2b3e-4147-b726-c880f9d09bff",
   "metadata": {
    "tags": []
   },
   "outputs": [],
   "source": [
    "nodes_array = np.arange(1000, 12000, 2000)#[1000, 2000, 4000, 6000, 8000, 10000]\n",
    "avg_degree_array = [0, 0.5, 0.9, 1, 2, 3, 4, \"2log\"] #np.arange(0, 3.2, 0.2)\n",
    "ensemble_size = 30"
   ]
  },
  {
   "cell_type": "code",
   "execution_count": 4,
   "id": "96cd1245-66f6-42f1-8fbc-ee25ae4254d1",
   "metadata": {},
   "outputs": [
    {
     "data": {
      "text/plain": [
       "5280"
      ]
     },
     "execution_count": 4,
     "metadata": {},
     "output_type": "execute_result"
    }
   ],
   "source": [
    "len(nodes_array) * len(avg_degree_array ) * ensemble_size"
   ]
  },
  {
   "cell_type": "code",
   "execution_count": 5,
   "id": "382f392e-7865-4cec-ba1a-d2422ab276a4",
   "metadata": {},
   "outputs": [],
   "source": [
    "def find_percolation_threshold(n = 1000, threshold = 0.5, step = 0.2):\n",
    "    graphs_dict = dict()\n",
    "    avg_degree = 0\n",
    "    while True:\n",
    "        nodes = n\n",
    "        graphs_dict[avg_degree] = dict()\n",
    "\n",
    "        probability = avg_degree/nodes        \n",
    "        graph = ig.Graph.Erdos_Renyi(n = nodes, p = probability)\n",
    "        graphs_dict[avg_degree][probability] = graph\n",
    "        giant = graph.clusters().giant()\n",
    "        graphs_dict[avg_degree][probability][\"giant\"] = giant\n",
    "        giant_fraction = giant.vcount()/n\n",
    "        avg_degree += step\n",
    "        if giant_fraction > threshold:\n",
    "            return graphs_dict\n",
    "\n",
    "percolations = find_percolation_threshold()"
   ]
  },
  {
   "cell_type": "code",
   "execution_count": 6,
   "id": "2fcc4b9c-0fab-4e88-bd4d-a61f216bc6f0",
   "metadata": {},
   "outputs": [
    {
     "data": {
      "text/plain": [
       "{0: {0.0: <igraph.Graph at 0x7fea9babf350>},\n",
       " 0.2: {0.0002: <igraph.Graph at 0x7fea9babf450>},\n",
       " 0.4: {0.0004: <igraph.Graph at 0x7fea9babf650>},\n",
       " 0.6000000000000001: {0.0006000000000000001: <igraph.Graph at 0x7fea9babf850>},\n",
       " 0.8: {0.0008: <igraph.Graph at 0x7fea9babfa50>},\n",
       " 1.0: {0.001: <igraph.Graph at 0x7fea9babfc50>},\n",
       " 1.2: {0.0012: <igraph.Graph at 0x7fea9babfe50>},\n",
       " 1.4: {0.0014: <igraph.Graph at 0x7fea9bb67150>}}"
      ]
     },
     "execution_count": 6,
     "metadata": {},
     "output_type": "execute_result"
    }
   ],
   "source": [
    "percolations"
   ]
  },
  {
   "cell_type": "markdown",
   "id": "d2572f52-b406-41df-be62-e3a69289101a",
   "metadata": {
    "tags": []
   },
   "source": [
    "## Graph building"
   ]
  },
  {
   "cell_type": "code",
   "execution_count": 7,
   "id": "5618409c-b6ae-445c-ba88-7d63c5e4fb1d",
   "metadata": {
    "tags": []
   },
   "outputs": [
    {
     "name": "stdout",
     "output_type": "stream",
     "text": [
      "CPU times: user 23.8 s, sys: 963 ms, total: 24.7 s\n",
      "Wall time: 25.1 s\n"
     ]
    }
   ],
   "source": [
    "%%time\n",
    "# A Python program to print all\n",
    "# permutations using library function\n",
    "from itertools import product\n",
    "\n",
    "# Get all permutations of nodes and probabilities\n",
    "perm = product(*[nodes_array, avg_degree_array])\n",
    "\n",
    "graphs_dict = dict()\n",
    "# Print the obtained permutations\n",
    "for network_property in list(perm):\n",
    "    \n",
    "    graphs_list = list()\n",
    "    nodes = int(network_property[0])\n",
    "    \n",
    "    if network_property[1] in [\"log\", \"2log\"]:\n",
    "        degree = 2*np.round(np.log(nodes), 2)\n",
    "        key = str(nodes) + '_nodes__' + network_property[1] + \"_degree\"\n",
    "    else:\n",
    "        degree = network_property[1]\n",
    "        key = str(nodes) + '_nodes__' + str(degree) + \"_degree\"\n",
    "    probability = degree/nodes\n",
    "    \n",
    "    # Create a few realizations\n",
    "    for i in range(ensemble_size):\n",
    "        graph = ig.Graph.Erdos_Renyi(n = nodes, p = probability)\n",
    "        graphs_list.append(graph)\n",
    "    \n",
    "    graphs_dict[key] = dict()\n",
    "    graphs_dict[key]['graphs'] = graphs_list\n",
    "    graphs_dict[key][\"nodes\"] = nodes\n",
    "    graphs_dict[key][\"degree\"] = network_property[1]\n",
    "    graphs_dict[key][\"probability\"] = probability    "
   ]
  },
  {
   "cell_type": "markdown",
   "id": "b84dba57-5f56-452c-bb50-d1d6fb2bc1b0",
   "metadata": {},
   "source": [
    "## Calculate statistics and metrics"
   ]
  },
  {
   "cell_type": "code",
   "execution_count": null,
   "id": "11052fa4-ac48-4065-8754-522ddaa36c17",
   "metadata": {
    "tags": []
   },
   "outputs": [],
   "source": [
    "%%time\n",
    "# Calculate some metrics for each graph realization\n",
    "\n",
    "avg_degrees = list()\n",
    "nodes_number = list()\n",
    "connection_probabilities = list()\n",
    "diameters = list()\n",
    "sample_realizations = list()\n",
    "edges_number = list()\n",
    "giant_size = list()\n",
    "expected_avg_degree = list()\n",
    "giant_diameter = list()\n",
    "\n",
    "for params in graphs_dict.keys():\n",
    "    i = 1\n",
    "    for graph in graphs_dict[params][\"graphs\"]:\n",
    "        sample_realizations.append(i)\n",
    "        i += 1\n",
    "        \n",
    "        nodes_degree = graph.degree()\n",
    "        edges_number.append(len(graph.get_edgelist()))\n",
    "        diameters.append(len(graph.get_diameter()))\n",
    "        nodes_number.append(graphs_dict[params][\"nodes\"])\n",
    "        connection_probabilities.append(graphs_dict[params][\"probability\"])\n",
    "        expected_avg_degree.append(graphs_dict[params][\"degree\"])\n",
    "        avg_degrees.append(np.mean(nodes_degree))\n",
    "        giant = graph.clusters().giant()\n",
    "        giant_size.append(giant.vcount())\n",
    "        giant_diameter.append(giant.diameter())\n",
    "        "
   ]
  },
  {
   "cell_type": "code",
   "execution_count": null,
   "id": "c024b446-2b3d-412c-8d36-f4e8fbaac51e",
   "metadata": {},
   "outputs": [],
   "source": [
    "# sample_graph = graphs_dict[\"100_nodes__7_degree\"][\"graphs\"][0]\n",
    "# sample_graph.vertex_connectivity()"
   ]
  },
  {
   "cell_type": "code",
   "execution_count": null,
   "id": "8b21166f-6d09-458a-b803-3cee3cfbc3b2",
   "metadata": {},
   "outputs": [],
   "source": [
    "ensemble_analysis = pd.DataFrame()\n",
    "ensemble_analysis[\"nodes_number\"] = nodes_number\n",
    "ensemble_analysis[\"edges_number\"] = edges_number\n",
    "\n",
    "ensemble_analysis[\"avg_degree\"] = avg_degrees\n",
    "ensemble_analysis[\"expected_avg_degree\"] = expected_avg_degree\n",
    "# ensemble_analysis[\"sample_try\"] = sample_realizations\n",
    "\n",
    "ensemble_analysis[\"q\"] = connection_probabilities\n",
    "# ensemble_analysis[\"expected_edges_number\"] = (ensemble_analysis[\"nodes_number\"] * (ensemble_analysis[\"nodes_number\"] - 1))*ensemble_analysis[\"connection_probabilities\"]/2\n",
    "\n",
    "ensemble_analysis[\"log(n)\"] = np.log(ensemble_analysis[\"nodes_number\"])\n",
    "ensemble_analysis[\"1/n\"] = 1/ensemble_analysis[\"nodes_number\"]\n",
    "ensemble_analysis[\"diameter\"] = diameters\n",
    "ensemble_analysis[\"giant_size\"] = giant_size\n",
    "ensemble_analysis[\"giant_fraction\"] = ensemble_analysis[\"giant_size\"]/ensemble_analysis[\"nodes_number\"]\n",
    "ensemble_analysis[\"giant_diameter\"] = giant_diameter\n",
    "\n",
    "ensemble_analysis.head()"
   ]
  },
  {
   "cell_type": "code",
   "execution_count": null,
   "id": "5cba665d-b4bf-47a7-b1ad-a68a36fa6a03",
   "metadata": {},
   "outputs": [],
   "source": [
    "df_plot = ensemble_analysis.pivot_table(index = [\"nodes_number\", \"expected_avg_degree\"],\n",
    "                                         values = ['avg_degree', \"edges_number\", \"diameter\", \"giant_diameter\", \"giant_fraction\", \"q\"],\n",
    "                                         aggfunc = [\"mean\"])\n",
    "df_plot"
   ]
  },
  {
   "cell_type": "code",
   "execution_count": null,
   "id": "42be13d0-ba70-4b41-b447-9e7672dd9fe7",
   "metadata": {},
   "outputs": [],
   "source": [
    "ensemble_analysis.pivot_table(index = [\"expected_avg_degree\", \"nodes_number\"],\n",
    "                                         values = ['avg_degree', \"log(n)\", \"diameter\", \"giant_diameter\", \"giant_fraction\", \"q\"],\n",
    "                                         aggfunc = [\"mean\"])"
   ]
  },
  {
   "cell_type": "markdown",
   "id": "186a85b7-74d6-4e4a-8d4b-01b78f2940cc",
   "metadata": {},
   "source": [
    "## Can you observe the connectivity threshold?\n",
    "\n",
    "We saw that if $\\frac{q(n)}{q^P(n)} \\rightarrow \\infty$ P is valid with high probability (whp). Also if we observe that $\\frac{q(n)}{q^P(n)} \\rightarrow 0$ P is not valid w.h.p., where P is a network property. To have connectivity we should observe\n",
    "\n",
    "$$\\frac{z}{log(n)} \\rightarrow \\infty$$\n",
    "\n",
    "So, in order to have connectivity, $z$ should grow at least $log(n)$. If the network is connected, the diameter of the giant component should only increase or remains constant as the number of nodes increases. In the graph we can observe that for the case where the expected average degree is equal to $log(n)$ the giant component diameter is constant. This is not observed for other cases where $\\bar{z} = \\{0.9, 1.0 \\}$. "
   ]
  },
  {
   "cell_type": "code",
   "execution_count": null,
   "id": "bbafca60-ede2-434e-9398-0164519c3819",
   "metadata": {},
   "outputs": [],
   "source": [
    "fig, ax = plt.subplots(figsize = (10, 6))\n",
    "\n",
    "df = df_plot.reset_index()\n",
    "\n",
    "sns.lineplot(data = df[df[\"expected_avg_degree\"].isin([0.9, 1, \"2log\"])],\n",
    "             x = (\"nodes_number\"),\n",
    "             y = (\"mean\", 'diameter'),\n",
    "             hue = (\"expected_avg_degree\"),\n",
    "#              palette = sns.color_palette(\"vlag\", as_cmap=True),\n",
    "             ax = ax)\n",
    "ax.set_xlabel('Nodes number')\n",
    "ax.set_ylabel(\"Diameter\")\n",
    "ax.set_title(\"Network diameter at each n\")\n",
    "ax.legend([\"z = 0.9\", \"z = 1\", \"z = 2log(n)\"])\n",
    "sns.despine()"
   ]
  },
  {
   "cell_type": "markdown",
   "id": "ea4cfa20-df63-4e70-864b-f2377dea9442",
   "metadata": {},
   "source": [
    "## Extract the giant components and characterize them\n",
    "\n",
    "As Erdos and Renyi proved w.h.p, that for large n\n",
    "- If $q > \\frac{1}{n}$ there is one giant component\n",
    "- If $q < \\frac{1}{n}$ there are few small components\n",
    "\n",
    "Also, we need to define what a giant component is. It should be defined in terms of its size relating to tha entire graph size. \n",
    "\n",
    "As defined by \n",
    ">*\"Loosely speaking, a giant component is a connected component whose relative size (compared to the entire network) does not diminish as the size of the network grows to infinity. As the network grows, the giant component grows with it such that its relative size tends to a non-zero constant.\"*"
   ]
  },
  {
   "cell_type": "code",
   "execution_count": null,
   "id": "a287e9a8-4366-4047-a79a-10666f077620",
   "metadata": {},
   "outputs": [],
   "source": [
    "fig, ax = plt.subplots(figsize = (10, 6))\n",
    "\n",
    "df = df_plot.reset_index()\n",
    "\n",
    "sns.lineplot(data = df[df[\"expected_avg_degree\"].isin([0.9, 1, \"2log\"])],\n",
    "             x = (\"nodes_number\"),\n",
    "             y = (\"mean\", 'giant_diameter'),\n",
    "             hue = (\"expected_avg_degree\"),\n",
    "#              palette = sns.color_palette(\"vlag\", as_cmap=True),\n",
    "             ax = ax)\n",
    "ax.set_xlabel('Nodes number')\n",
    "ax.set_ylabel(\"Diameter\")\n",
    "ax.set_title(\"Giant component diameter at each n\")\n",
    "ax.legend([\"z = 0.9\", \"z = 1\", \"z = 2log(n)\"])\n",
    "\n",
    "sns.despine()"
   ]
  },
  {
   "cell_type": "markdown",
   "id": "05e326e9-0afd-4c25-87f2-be0e393959e7",
   "metadata": {},
   "source": [
    "As we can see in the chart above, the size of the giant component does not decrease as the network increase. The chart below displays the proportion of nodes that are in the giant component. As we can see, this proportion does not decrease as the number of nodes increases."
   ]
  },
  {
   "cell_type": "code",
   "execution_count": null,
   "id": "cf3d7451-0c39-45df-b640-aac1cfb7b1d6",
   "metadata": {},
   "outputs": [],
   "source": [
    "fig, ax = plt.subplots(figsize = (10, 6))\n",
    "\n",
    "df = df_plot.reset_index()\n",
    "\n",
    "sns.lineplot(data = df[df[\"expected_avg_degree\"].isin([0.9, 1, \"2log\"])],\n",
    "             x = (\"nodes_number\"),\n",
    "             y = (\"mean\", 'giant_fraction'),\n",
    "             hue = (\"expected_avg_degree\"),\n",
    "#              palette = sns.color_palette(\"vlag\", as_cmap=True),\n",
    "             ax = ax)\n",
    "ax.set_xlabel('Nodes number')\n",
    "ax.set_ylabel(\"Giant fraction\")\n",
    "ax.set_title(\"Giant component fraction at each n\")\n",
    "sns.despine()"
   ]
  },
  {
   "cell_type": "code",
   "execution_count": null,
   "id": "f167eda4-490f-4ec8-a4b1-2a74a40a9eee",
   "metadata": {},
   "outputs": [],
   "source": [
    "def in_giant(G):\n",
    "    cl = G.components()\n",
    "    cl_sizes = cl.sizes()\n",
    "    giant_component_index = cl_sizes.index(max(cl_sizes))\n",
    "    return [x == giant_component_index for x in cl.membership]\n",
    "\n",
    "# nodes_in_giant = in_giant(sample_graph)"
   ]
  },
  {
   "cell_type": "markdown",
   "id": "7f208215-4f87-492d-897c-f42a13b581b2",
   "metadata": {},
   "source": [
    "## Does the network diameter follows the logarithimic variation?\n",
    "\n",
    "The plot below shows the diameter for each value of n and a fixed value of $z$. As z increases the network diameter fits better the $log(n)$ line. So we can observe that the diameter follows the logarithimic variation."
   ]
  },
  {
   "cell_type": "code",
   "execution_count": null,
   "id": "3c3ee218-6f5d-4961-94b6-23014ddde0b3",
   "metadata": {},
   "outputs": [],
   "source": [
    "# fig, ax = plt.subplots(figsize = (10, 6))\n",
    "\n",
    "df = df_plot.reset_index()\n",
    "\n",
    "for z in [0.9, 1, 3, 4]:\n",
    "    fig, ax = plt.subplots(figsize = (10, 6))\n",
    "    sns.lineplot(data = df[df[\"expected_avg_degree\"].isin([z])],\n",
    "                 x = (\"nodes_number\"),\n",
    "                 y = (\"mean\", \"diameter\"),\n",
    "    #              hue = \"expected_avg_degree\",\n",
    "                 palette = \"coolwarm\",\n",
    "                 ax = ax)\n",
    "\n",
    "    ax2 = ax.twinx()\n",
    "    plt.plot(df[df[\"expected_avg_degree\"].isin([\"2log\"])][(\"nodes_number\")],\n",
    "             np.log(df[df[\"expected_avg_degree\"].isin([\"2log\"])][(\"nodes_number\")]),\n",
    "             color = \"red\", \n",
    "             linestyle = \"dashed\",)\n",
    "\n",
    "\n",
    "    ax.set_xlabel('Nodes number')\n",
    "    ax.set_ylabel(\"Diameter\")\n",
    "#     ax.legend([f\"z = {z}\"])\n",
    "    # ax2.legend([\"log(n)\"], )\n",
    "    ax2.set_ylabel(\"log(n)\")\n",
    "    ax.set_title(f\"Network diameter variation. z = {z}\")\n",
    "    sns.despine()"
   ]
  },
  {
   "cell_type": "code",
   "execution_count": null,
   "id": "dfbbb84b-e738-49fe-b9cc-19e38f4151b4",
   "metadata": {},
   "outputs": [],
   "source": []
  }
 ],
 "metadata": {
  "kernelspec": {
   "display_name": "Python 3",
   "language": "python",
   "name": "python3"
  },
  "language_info": {
   "codemirror_mode": {
    "name": "ipython",
    "version": 3
   },
   "file_extension": ".py",
   "mimetype": "text/x-python",
   "name": "python",
   "nbconvert_exporter": "python",
   "pygments_lexer": "ipython3",
   "version": "3.7.6"
  }
 },
 "nbformat": 4,
 "nbformat_minor": 5
}
